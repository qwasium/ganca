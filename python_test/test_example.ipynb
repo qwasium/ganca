{
 "cells": [
  {
   "cell_type": "code",
   "execution_count": 1,
   "metadata": {},
   "outputs": [],
   "source": [
    "# file: runme.py\n",
    "import os\n",
    "from add_path import JumpDir\n",
    "\n",
    "# This file illustrates the proxy class C++ interface generated\n",
    "# by SWIG.\n",
    "\n",
    "with JumpDir(os.path.join('..', 'python_build'), os.getcwd()):\n",
    "    import example"
   ]
  },
  {
   "cell_type": "code",
   "execution_count": 2,
   "metadata": {},
   "outputs": [
    {
     "data": {
      "text/plain": [
       "['Circle',\n",
       " 'Shape',\n",
       " 'Square',\n",
       " '_SwigNonDynamicMeta',\n",
       " '__builtin__',\n",
       " '__builtins__',\n",
       " '__cached__',\n",
       " '__doc__',\n",
       " '__file__',\n",
       " '__loader__',\n",
       " '__name__',\n",
       " '__package__',\n",
       " '__spec__',\n",
       " '_example',\n",
       " '_swig_add_metaclass',\n",
       " '_swig_python_version_info',\n",
       " '_swig_repr',\n",
       " '_swig_setattr_nondynamic_class_variable',\n",
       " '_swig_setattr_nondynamic_instance_variable',\n",
       " 'cvar']"
      ]
     },
     "execution_count": 2,
     "metadata": {},
     "output_type": "execute_result"
    }
   ],
   "source": [
    "dir(example)"
   ]
  },
  {
   "cell_type": "code",
   "execution_count": 2,
   "metadata": {},
   "outputs": [
    {
     "name": "stdout",
     "output_type": "stream",
     "text": [
      "Creating some objects:\n",
      "    Created circle <example.Circle; proxy of <Swig Object of type 'Circle *' at 0x7f911e8495c0> >\n",
      "    Created square <example.Square; proxy of <Swig Object of type 'Square *' at 0x7f9138530ea0> >\n"
     ]
    }
   ],
   "source": [
    "# ----- Object creation -----\n",
    "\n",
    "print(\"Creating some objects:\")\n",
    "c = example.Circle(10)\n",
    "print(\"    Created circle %s\" % c)\n",
    "s = example.Square(10)\n",
    "print(\"    Created square %s\" % s)\n"
   ]
  },
  {
   "cell_type": "code",
   "execution_count": 3,
   "metadata": {},
   "outputs": [
    {
     "name": "stdout",
     "output_type": "stream",
     "text": [
      "\n",
      "A total of 2 shapes were created\n"
     ]
    }
   ],
   "source": [
    "# ----- Access a static member -----\n",
    "\n",
    "print(\"\\nA total of %d shapes were created\" % example.cvar.Shape_nshapes)"
   ]
  },
  {
   "cell_type": "code",
   "execution_count": 4,
   "metadata": {},
   "outputs": [
    {
     "name": "stdout",
     "output_type": "stream",
     "text": [
      "\n",
      "Here is their current position:\n",
      "    Circle = (20.000000, 30.000000)\n",
      "    Square = (-10.000000, 5.000000)\n"
     ]
    }
   ],
   "source": [
    "# ----- Member data access -----\n",
    "\n",
    "# Set the location of the object\n",
    "\n",
    "c.x = 20\n",
    "c.y = 30\n",
    "\n",
    "s.x = -10\n",
    "s.y = 5\n",
    "\n",
    "print(\"\\nHere is their current position:\")\n",
    "print(\"    Circle = (%f, %f)\" % (c.x, c.y))\n",
    "print(\"    Square = (%f, %f)\" % (s.x, s.y))"
   ]
  },
  {
   "cell_type": "code",
   "execution_count": 5,
   "metadata": {},
   "outputs": [
    {
     "name": "stdout",
     "output_type": "stream",
     "text": [
      "\n",
      "Here are some properties of the shapes:\n",
      "    <example.Circle; proxy of <Swig Object of type 'Circle *' at 0x7f911e8495c0> >\n",
      "        area      = 314.1592653589793\n",
      "        perimeter = 62.83185307179586\n",
      "    <example.Square; proxy of <Swig Object of type 'Square *' at 0x7f9138530ea0> >\n",
      "        area      = 100.0\n",
      "        perimeter = 40.0\n",
      "\n",
      "Guess I'll clean up now\n",
      "0 shapes remain\n",
      "Goodbye\n"
     ]
    }
   ],
   "source": [
    "# ----- Call some methods -----\n",
    "\n",
    "print(\"\\nHere are some properties of the shapes:\")\n",
    "for o in [c, s]:\n",
    "    print(\"    %s\" % o)\n",
    "    print(\"        area      = %s\" % o.area())\n",
    "    print(\"        perimeter = %s\" % o.perimeter())\n",
    "# prevent o from holding a reference to the last object looked at\n",
    "o = None\n",
    "\n",
    "print(\"\\nGuess I'll clean up now\")\n",
    "\n",
    "# Note: this invokes the virtual destructor\n",
    "del c\n",
    "del s\n",
    "\n",
    "print(\"%d shapes remain\" % example.cvar.Shape_nshapes)\n",
    "print(\"Goodbye\")\n"
   ]
  }
 ],
 "metadata": {
  "kernelspec": {
   "display_name": "Python 3",
   "language": "python",
   "name": "python3"
  },
  "language_info": {
   "codemirror_mode": {
    "name": "ipython",
    "version": 3
   },
   "file_extension": ".py",
   "mimetype": "text/x-python",
   "name": "python",
   "nbconvert_exporter": "python",
   "pygments_lexer": "ipython3",
   "version": "3.10.12"
  }
 },
 "nbformat": 4,
 "nbformat_minor": 2
}
