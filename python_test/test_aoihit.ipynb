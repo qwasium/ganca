{
 "cells": [
  {
   "cell_type": "markdown",
   "metadata": {},
   "source": [
    "# `ganca.aoihit`"
   ]
  },
  {
   "cell_type": "markdown",
   "metadata": {},
   "source": [
    "Prepare and select `venv` before running the script\n",
    "\n",
    "```bash\n",
    "# Linux\n",
    "source ../venv/bin/activate # example; from this file's directory\n",
    "pip install ipykernel       # to run jupyter notebook\n",
    "```"
   ]
  },
  {
   "cell_type": "markdown",
   "metadata": {},
   "source": [
    "Install python libraries if not installed."
   ]
  },
  {
   "cell_type": "code",
   "execution_count": null,
   "metadata": {},
   "outputs": [],
   "source": [
    "!pip install pandas numpy\n",
    "# !pip3 install pandas numpy"
   ]
  },
  {
   "cell_type": "code",
   "execution_count": 1,
   "metadata": {},
   "outputs": [
    {
     "data": {
      "text/plain": [
       "'/home/bluqueen/Documents/dev/ganca/build/python/python_test'"
      ]
     },
     "execution_count": 1,
     "metadata": {},
     "output_type": "execute_result"
    }
   ],
   "source": [
    "import os\n",
    "from ganca.aoihit import pyAOIHit\n",
    "\n",
    "from py_test_func import pyTestFunc\n",
    "\n",
    "# check current working directory\n",
    "os.getcwd()"
   ]
  },
  {
   "cell_type": "code",
   "execution_count": 2,
   "metadata": {},
   "outputs": [
    {
     "data": {
      "text/plain": [
       "['BoolVector',\n",
       " 'DoubleVector',\n",
       " 'IntVector',\n",
       " 'IntVectorVector',\n",
       " 'SwigPyIterator',\n",
       " '_SwigNonDynamicMeta',\n",
       " '__builtin__',\n",
       " '__builtins__',\n",
       " '__cached__',\n",
       " '__doc__',\n",
       " '__file__',\n",
       " '__loader__',\n",
       " '__name__',\n",
       " '__package__',\n",
       " '__spec__',\n",
       " '_pyAOIHit',\n",
       " '_swig_add_metaclass',\n",
       " '_swig_python_version_info',\n",
       " '_swig_repr',\n",
       " '_swig_setattr_nondynamic_class_variable',\n",
       " '_swig_setattr_nondynamic_instance_variable',\n",
       " 'cntRasterAOI']"
      ]
     },
     "execution_count": 2,
     "metadata": {},
     "output_type": "execute_result"
    }
   ],
   "source": [
    "dir(pyAOIHit)"
   ]
  },
  {
   "cell_type": "code",
   "execution_count": 2,
   "metadata": {},
   "outputs": [],
   "source": [
    "aoi_mask = [\n",
    "\t\t[0, 0, 0, 0, 0, 0, 0, 0, 0],\n",
    "\t\t[0, 0, 0, 1, 1, 1, 0, 0, 0],\n",
    "\t\t[0, 0, 1, 1, 1, 1, 1, 0, 0],\n",
    "\t\t[0, 0, 1, 1, 1, 1, 1, 0, 0],\n",
    "\t\t[0, 0, 0, 1, 1, 1, 0, 0, 0],\n",
    "\t\t[0, 0, 0, 0, 0, 0, 0, 0, 0],\n",
    "\t]\n",
    "\n",
    "\t# false, true, false\n",
    "fix_x = [1.5, 3.5, 0]\n",
    "fix_y = [1.5, 3.5, 7]\n",
    "\n",
    "win_x = aoi_mask.__len__() # 6\n",
    "win_y = aoi_mask[0].__len__() # 9"
   ]
  },
  {
   "cell_type": "code",
   "execution_count": 3,
   "metadata": {},
   "outputs": [
    {
     "name": "stdout",
     "output_type": "stream",
     "text": [
      "(False, True, False)\n"
     ]
    }
   ],
   "source": [
    "collission = pyAOIHit.cntRasterAOI(\n",
    "\taoiMask = aoi_mask,\n",
    "\tfixX    = fix_x,\n",
    "\tfixY    = fix_y,\n",
    "\twinX    = win_x,\n",
    "\twinY    = win_y)\n",
    "print(collission)"
   ]
  },
  {
   "cell_type": "code",
   "execution_count": 4,
   "metadata": {},
   "outputs": [
    {
     "name": "stdout",
     "output_type": "stream",
     "text": [
      "[False, True, False]\n"
     ]
    }
   ],
   "source": [
    "collision_python = pyTestFunc.cnt_raster_aoi(\n",
    "\taoi_mask = aoi_mask,\n",
    "\tfix_x    = fix_x,\n",
    "\tfix_y    = fix_y,\n",
    "\twin_x    = win_x,\n",
    "\twin_y    = win_y\n",
    ")\n",
    "print(collision_python)"
   ]
  },
  {
   "cell_type": "code",
   "execution_count": 5,
   "metadata": {},
   "outputs": [
    {
     "name": "stdout",
     "output_type": "stream",
     "text": [
      "5.47 µs ± 152 ns per loop (mean ± std. dev. of 7 runs, 100,000 loops each)\n"
     ]
    }
   ],
   "source": [
    "%%timeit\n",
    "pyAOIHit.cntRasterAOI(\n",
    "\taoiMask = aoi_mask,\n",
    "\tfixX    = fix_x,\n",
    "\tfixY    = fix_y,\n",
    "\twinX    = win_x,\n",
    "\twinY    = win_y)"
   ]
  },
  {
   "cell_type": "code",
   "execution_count": 6,
   "metadata": {},
   "outputs": [
    {
     "name": "stdout",
     "output_type": "stream",
     "text": [
      "7.31 µs ± 900 ns per loop (mean ± std. dev. of 7 runs, 100,000 loops each)\n"
     ]
    }
   ],
   "source": [
    "%%timeit\n",
    "pyTestFunc.cnt_raster_aoi(\n",
    "\taoi_mask = aoi_mask,\n",
    "\tfix_x    = fix_x,\n",
    "\tfix_y    = fix_y,\n",
    "\twin_x    = win_x,\n",
    "\twin_y    = win_y\n",
    ")"
   ]
  }
 ],
 "metadata": {
  "kernelspec": {
   "display_name": "venv",
   "language": "python",
   "name": "python3"
  },
  "language_info": {
   "codemirror_mode": {
    "name": "ipython",
    "version": 3
   },
   "file_extension": ".py",
   "mimetype": "text/x-python",
   "name": "python",
   "nbconvert_exporter": "python",
   "pygments_lexer": "ipython3",
   "version": "3.10.12"
  }
 },
 "nbformat": 4,
 "nbformat_minor": 2
}
