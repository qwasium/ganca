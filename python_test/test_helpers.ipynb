{
 "cells": [
  {
   "cell_type": "code",
   "execution_count": 1,
   "metadata": {},
   "outputs": [],
   "source": [
    "# file: runme.py\n",
    "import os\n",
    "from add_path import JumpDir\n",
    "\n",
    "# This file illustrates the proxy class C++ interface generated\n",
    "# by SWIG.\n",
    "\n",
    "with JumpDir(os.path.join('..', 'src', 'helpers'), os.getcwd()):\n",
    "    import helpers"
   ]
  },
  {
   "cell_type": "code",
   "execution_count": 2,
   "metadata": {},
   "outputs": [
    {
     "data": {
      "text/plain": [
       "['DoubleVector',\n",
       " 'SwigPyIterator',\n",
       " '_SwigNonDynamicMeta',\n",
       " '__builtin__',\n",
       " '__builtins__',\n",
       " '__cached__',\n",
       " '__doc__',\n",
       " '__file__',\n",
       " '__loader__',\n",
       " '__name__',\n",
       " '__package__',\n",
       " '__spec__',\n",
       " '_helpers',\n",
       " '_swig_add_metaclass',\n",
       " '_swig_python_version_info',\n",
       " '_swig_repr',\n",
       " '_swig_setattr_nondynamic_class_variable',\n",
       " '_swig_setattr_nondynamic_instance_variable',\n",
       " 'displayAreaToPixels']"
      ]
     },
     "execution_count": 2,
     "metadata": {},
     "output_type": "execute_result"
    }
   ],
   "source": [
    "dir(helpers)"
   ]
  },
  {
   "cell_type": "code",
   "execution_count": 3,
   "metadata": {},
   "outputs": [
    {
     "data": {
      "text/plain": [
       "(10.0, 15.0, 20.0)"
      ]
     },
     "execution_count": 3,
     "metadata": {},
     "output_type": "execute_result"
    },
    {
     "name": "stdout",
     "output_type": "stream",
     "text": [
      "10\n",
      "15\n",
      "20\n"
     ]
    }
   ],
   "source": [
    "helpers.displayAreaToPixels([2, 3, 4], 5)"
   ]
  }
 ],
 "metadata": {
  "kernelspec": {
   "display_name": "Python 3",
   "language": "python",
   "name": "python3"
  },
  "language_info": {
   "codemirror_mode": {
    "name": "ipython",
    "version": 3
   },
   "file_extension": ".py",
   "mimetype": "text/x-python",
   "name": "python",
   "nbconvert_exporter": "python",
   "pygments_lexer": "ipython3",
   "version": "3.10.12"
  }
 },
 "nbformat": 4,
 "nbformat_minor": 2
}
